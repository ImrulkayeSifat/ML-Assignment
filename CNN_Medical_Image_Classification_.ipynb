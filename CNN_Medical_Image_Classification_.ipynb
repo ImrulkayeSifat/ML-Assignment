{
  "nbformat": 4,
  "nbformat_minor": 0,
  "metadata": {
    "colab": {
      "provenance": []
    },
    "kernelspec": {
      "name": "python3",
      "display_name": "Python 3"
    },
    "language_info": {
      "name": "python"
    }
  },
  "cells": [
    {
      "cell_type": "code",
      "execution_count": 15,
      "metadata": {
        "id": "ewBN7yNeq4Tr"
      },
      "outputs": [],
      "source": [
        "import tensorflow as tf\n",
        "import numpy as np\n",
        "import matplotlib.pyplot as plt\n",
        "import os\n",
        "import cv2\n",
        "from sklearn.model_selection import train_test_split\n",
        "from sklearn.utils import shuffle"
      ]
    },
    {
      "cell_type": "code",
      "source": [
        "!git clone https://github.com/ImrulkayeSifat/ML-Assignment.git"
      ],
      "metadata": {
        "colab": {
          "base_uri": "https://localhost:8080/"
        },
        "id": "Q-xd7qIlO67k",
        "outputId": "af90ad06-96f6-40b2-f9d2-96319fd2dc51"
      },
      "execution_count": 2,
      "outputs": [
        {
          "output_type": "stream",
          "name": "stdout",
          "text": [
            "fatal: destination path 'ML-Assignment' already exists and is not an empty directory.\n"
          ]
        }
      ]
    },
    {
      "cell_type": "code",
      "source": [
        "data_dir = 'ML-Assignment/CNN_dataset/'\n",
        "categories = ['HeadCT', 'ChestCT', 'AbdomenCT', 'Hand', 'CXR']\n",
        "data = []\n",
        "label = []"
      ],
      "metadata": {
        "id": "1p0cDDGprJSN"
      },
      "execution_count": 3,
      "outputs": []
    },
    {
      "cell_type": "code",
      "source": [
        "for i, category in enumerate(categories):\n",
        "    path = os.path.join(data_dir, category)\n",
        "    for img in os.listdir(path):\n",
        "        img_path = os.path.join(path, img)\n",
        "        image = cv2.imread(img_path)\n",
        "        image = cv2.cvtColor(image, cv2.COLOR_BGR2RGB) # convert to RGB\n",
        "        image = cv2.resize(image, (32, 32)) # resize to (224, 224)\n",
        "        data.append(image)\n",
        "        label.append(i)"
      ],
      "metadata": {
        "id": "aXJ1aYoQrLk7"
      },
      "execution_count": 4,
      "outputs": []
    },
    {
      "cell_type": "code",
      "source": [
        "# Convert data and label to numpy arrays\n",
        "data = np.array(data)\n",
        "label = np.array(label)"
      ],
      "metadata": {
        "id": "Ssz6Qzg7rNdx"
      },
      "execution_count": 5,
      "outputs": []
    },
    {
      "cell_type": "code",
      "source": [
        "# Shuffle the data\n",
        "data, label = shuffle(data, label, random_state=42)"
      ],
      "metadata": {
        "id": "Z3FOQ-8KrTb7"
      },
      "execution_count": 6,
      "outputs": []
    },
    {
      "cell_type": "code",
      "source": [
        "# Split the dataset into training, validation, and testing sets\n",
        "X_train, X_test, y_train, y_test = train_test_split(data, label, test_size=0.2, random_state=42)\n",
        "X_train, X_val, y_train, y_val = train_test_split(X_train, y_train, test_size=0.2, random_state=42)\n"
      ],
      "metadata": {
        "id": "EJ7w8MZRrVSK"
      },
      "execution_count": 7,
      "outputs": []
    },
    {
      "cell_type": "code",
      "source": [
        "# Balance the dataset\n",
        "class_counts = np.bincount(y_train)\n",
        "max_count = np.max(class_counts)\n",
        "for i, count in enumerate(class_counts):\n",
        "    if count != max_count:\n",
        "        mask = y_train == i\n",
        "        X_train = np.concatenate((X_train, X_train[mask]), axis=0)\n",
        "        y_train = np.concatenate((y_train, y_train[mask]), axis=0)"
      ],
      "metadata": {
        "id": "K12hPB6brXVd"
      },
      "execution_count": 8,
      "outputs": []
    },
    {
      "cell_type": "code",
      "source": [
        "# Normalize the data\n",
        "X_train = X_train / 255.0\n",
        "X_val = X_val / 255.0\n",
        "X_test = X_test / 255.0"
      ],
      "metadata": {
        "id": "dAFiwbj7rZV9"
      },
      "execution_count": 9,
      "outputs": []
    },
    {
      "cell_type": "code",
      "source": [
        "# Build the CNN model\n",
        "model = tf.keras.models.Sequential([\n",
        "    tf.keras.layers.Conv2D(32, (3, 3), activation='relu', input_shape=(32, 32, 3)),\n",
        "    tf.keras.layers.MaxPooling2D((2, 2)),\n",
        "    tf.keras.layers.Conv2D(64, (3, 3), activation='relu'),\n",
        "    tf.keras.layers.MaxPooling2D((2, 2)),\n",
        "    tf.keras.layers.Conv2D(128, (3, 3), activation='relu'),\n",
        "    tf.keras.layers.MaxPooling2D((2, 2)),\n",
        "    tf.keras.layers.Flatten(),\n",
        "    tf.keras.layers.Dense(128, activation='relu'),\n",
        "    tf.keras.layers.Dense(len(categories), activation='softmax')\n",
        "])"
      ],
      "metadata": {
        "id": "9vPJxzcRrbb0"
      },
      "execution_count": 10,
      "outputs": []
    },
    {
      "cell_type": "code",
      "source": [
        "# Compile the model\n",
        "model.compile(optimizer='adam', loss='sparse_categorical_crossentropy', metrics=['accuracy'])\n"
      ],
      "metadata": {
        "id": "95Z_AO0sri0J"
      },
      "execution_count": 11,
      "outputs": []
    },
    {
      "cell_type": "code",
      "source": [
        "# Train the model\n",
        "history = model.fit(X_train, y_train, validation_data=(X_val, y_val), epochs=5, batch_size=32)"
      ],
      "metadata": {
        "colab": {
          "base_uri": "https://localhost:8080/"
        },
        "id": "Q-6DtpkaSYpo",
        "outputId": "ae8d3864-4a99-433c-b106-29ef62b482de"
      },
      "execution_count": 12,
      "outputs": [
        {
          "output_type": "stream",
          "name": "stdout",
          "text": [
            "Epoch 1/5\n",
            "1799/1799 [==============================] - 116s 64ms/step - loss: 0.0560 - accuracy: 0.9814 - val_loss: 0.0036 - val_accuracy: 0.9987\n",
            "Epoch 2/5\n",
            "1799/1799 [==============================] - 115s 64ms/step - loss: 0.0096 - accuracy: 0.9972 - val_loss: 0.0032 - val_accuracy: 0.9986\n",
            "Epoch 3/5\n",
            "1799/1799 [==============================] - 113s 63ms/step - loss: 0.0050 - accuracy: 0.9986 - val_loss: 0.0073 - val_accuracy: 0.9980\n",
            "Epoch 4/5\n",
            "1799/1799 [==============================] - 103s 57ms/step - loss: 0.0053 - accuracy: 0.9988 - val_loss: 0.0066 - val_accuracy: 0.9985\n",
            "Epoch 5/5\n",
            "1799/1799 [==============================] - 104s 58ms/step - loss: 0.0036 - accuracy: 0.9988 - val_loss: 0.0064 - val_accuracy: 0.9985\n"
          ]
        }
      ]
    },
    {
      "cell_type": "code",
      "source": [
        "# Evaluate the model on the testing set\n",
        "test_loss, test_acc = model.evaluate(X_test, y_test)\n",
        "print('Test accuracy:', test_acc)"
      ],
      "metadata": {
        "colab": {
          "base_uri": "https://localhost:8080/"
        },
        "id": "z5Se3eHgVZu_",
        "outputId": "f4500b02-df7f-4781-e6a1-6d64eca130b4"
      },
      "execution_count": 13,
      "outputs": [
        {
          "output_type": "stream",
          "name": "stdout",
          "text": [
            "313/313 [==============================] - 6s 18ms/step - loss: 0.0055 - accuracy: 0.9987\n",
            "Test accuracy: 0.9987000226974487\n"
          ]
        }
      ]
    },
    {
      "cell_type": "code",
      "source": [
        "f, (ax1, ax2) = plt.subplots(1, 2, figsize=(12, 4))\n",
        "t = f.suptitle('Model Performance', fontsize=12)\n",
        "f.subplots_adjust(top=0.85, wspace=0.3)\n",
        "\n",
        "max_epoch = len(history.history['accuracy'])+1\n",
        "epoch_list = list(range(1,max_epoch))\n",
        "ax1.plot(epoch_list, history.history['accuracy'], label='Train Accuracy')\n",
        "ax1.plot(epoch_list, history.history['val_accuracy'], label='Validation Accuracy')\n",
        "ax1.set_xticks(np.arange(1, max_epoch, 5))\n",
        "ax1.set_ylabel('Accuracy Value')\n",
        "ax1.set_xlabel('Epoch')\n",
        "ax1.set_title('Accuracy')\n",
        "l1 = ax1.legend(loc=\"best\")\n",
        "\n",
        "ax2.plot(epoch_list, history.history['loss'], label='Train Loss')\n",
        "ax2.plot(epoch_list, history.history['val_loss'], label='Validation Loss')\n",
        "ax2.set_xticks(np.arange(1, max_epoch, 5))\n",
        "ax2.set_ylabel('Loss Value')\n",
        "ax2.set_xlabel('Epoch')\n",
        "ax2.set_title('Loss')\n",
        "l2 = ax2.legend(loc=\"best\")"
      ],
      "metadata": {
        "colab": {
          "base_uri": "https://localhost:8080/",
          "height": 277
        },
        "id": "JTK-eAucWkax",
        "outputId": "b6113e6b-f044-494d-e809-3f1b93c3558f"
      },
      "execution_count": 16,
      "outputs": [
        {
          "output_type": "display_data",
          "data": {
            "text/plain": [
              "<Figure size 864x288 with 2 Axes>"
            ],
            "image/png": "[encoded data removed]"
          },
          "metadata": {
            "needs_background": "light"
          }
        }
      ]
    }
  ]
}